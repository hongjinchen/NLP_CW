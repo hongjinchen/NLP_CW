{
 "cells": [
  {
   "cell_type": "markdown",
   "metadata": {},
   "source": [
    "# Assignment Two:  Sentiment Classification\n",
    "\n",
    "For this exercise you will be using the \"SemEval 2017 task 4\" corpus provided on the module website, available through the following link: https://warwick.ac.uk/fac/sci/dcs/teaching/material/cs918/semeval-tweets.tar.bz2 You will focus particularly on Subtask A, i.e. classifying the overall sentiment of a tweet as positive, negative or neutral.\n",
    "\n",
    "You are requested to produce a Jupyter notebook for the coursework submission. The input to your program is the SemEval data downloaded. Note that TAs need to run your program on their own machine by using the original SemEval data. As such, don’t submit a Python program that takes as input some preprocessed files."
   ]
  },
  {
   "cell_type": "code",
   "execution_count": 68,
   "metadata": {},
   "outputs": [],
   "source": [
    "# Skeleton: Evaluation code for the test sets\n",
    "def read_test(testset):\n",
    "    '''\n",
    "    readin the testset and return a dictionary\n",
    "    :param testset: str, the file name of the testset to compare\n",
    "    '''\n",
    "    id_gts = {}\n",
    "    with open(testset, 'r', encoding='utf8') as fh:\n",
    "        for line in fh:\n",
    "            fields = line.split('\\t')\n",
    "            tweetid = fields[0]\n",
    "            gt = fields[1]\n",
    "            id_gts[tweetid] = gt\n",
    "\n",
    "    return id_gts\n",
    "\n",
    "\n",
    "def confusion(id_preds, testset, classifier):\n",
    "    '''\n",
    "    print the confusion matrix of {'positive', 'netative'} between preds and testset\n",
    "    :param id_preds: a dictionary of predictions formated as {<tweetid>:<sentiment>, ... }\n",
    "    :param testset: str, the file name of the testset to compare\n",
    "    :classifier: str, the name of the classifier\n",
    "    '''\n",
    "    id_gts = read_test(testset)\n",
    "\n",
    "    gts = []\n",
    "    for m, c1 in id_gts.items():\n",
    "        if c1 not in gts:\n",
    "            gts.append(c1)\n",
    "\n",
    "    gts = ['positive', 'negative', 'neutral']\n",
    "\n",
    "    conf = {}\n",
    "    for c1 in gts:\n",
    "        conf[c1] = {}\n",
    "        for c2 in gts:\n",
    "            conf[c1][c2] = 0\n",
    "\n",
    "    for tweetid, gt in id_gts.items():\n",
    "        if tweetid in id_preds:\n",
    "            pred = id_preds[tweetid]\n",
    "        else:\n",
    "            pred = 'neutral'\n",
    "        conf[pred][gt] += 1\n",
    "\n",
    "    print(''.ljust(12) + '  '.join(gts))\n",
    "\n",
    "    for c1 in gts:\n",
    "        print(c1.ljust(12), end='')\n",
    "        for c2 in gts:\n",
    "            if sum(conf[c1].values()) > 0:\n",
    "                print('%.3f     ' % (conf[c1][c2] / float(sum(conf[c1].values()))), end='')\n",
    "            else:\n",
    "                print('0.000     ', end='')\n",
    "        print('')\n",
    "\n",
    "    print('')\n",
    "\n",
    "\n",
    "\n",
    "def evaluate(id_preds, testset, classifier):\n",
    "    '''\n",
    "    print the macro-F1 score of {'positive', 'netative'} between preds and testset\n",
    "    :param id_preds: a dictionary of predictions formated as {<tweetid>:<sentiment>, ... }\n",
    "    :param testset: str, the file name of the testset to compare\n",
    "    :classifier: str, the name of the classifier\n",
    "    '''\n",
    "    id_gts = read_test(testset)\n",
    "\n",
    "    acc_by_class = {}\n",
    "    for gt in ['positive', 'negative', 'neutral']:\n",
    "        acc_by_class[gt] = {'tp': 0, 'fp': 0, 'tn': 0, 'fn': 0}\n",
    "\n",
    "    catf1s = {}\n",
    "\n",
    "    ok = 0\n",
    "    for tweetid, gt in id_gts.items():\n",
    "        if tweetid in id_preds:\n",
    "            pred = id_preds[tweetid]\n",
    "        else:\n",
    "            print(\"do not find \" + tweetid)\n",
    "            pred = 'neutral'\n",
    "\n",
    "        if gt == pred:\n",
    "            ok += 1\n",
    "            acc_by_class[gt]['tp'] += 1\n",
    "        else:\n",
    "            acc_by_class[gt]['fn'] += 1\n",
    "            acc_by_class[pred]['fp'] += 1\n",
    "    catcount = 0\n",
    "    itemcount = 0\n",
    "    macro = {'p': 0, 'r': 0, 'f1': 0}\n",
    "    micro = {'p': 0, 'r': 0, 'f1': 0}\n",
    "    semevalmacro = {'p': 0, 'r': 0, 'f1': 0}\n",
    "\n",
    "    microtp = 0\n",
    "    microfp = 0\n",
    "    microtn = 0\n",
    "    microfn = 0\n",
    "    for cat, acc in acc_by_class.items():\n",
    "        catcount += 1\n",
    "\n",
    "        microtp += acc['tp']\n",
    "        microfp += acc['fp']\n",
    "        microtn += acc['tn']\n",
    "        microfn += acc['fn']\n",
    "\n",
    "        p = 0\n",
    "        if (acc['tp'] + acc['fp']) > 0:\n",
    "            p = float(acc['tp']) / (acc['tp'] + acc['fp'])\n",
    "\n",
    "        r = 0\n",
    "        if (acc['tp'] + acc['fn']) > 0:\n",
    "            r = float(acc['tp']) / (acc['tp'] + acc['fn'])\n",
    "\n",
    "        f1 = 0\n",
    "        if (p + r) > 0:\n",
    "            f1 = 2 * p * r / (p + r)\n",
    "\n",
    "        catf1s[cat] = f1\n",
    "\n",
    "        n = acc['tp'] + acc['fn']\n",
    "\n",
    "        macro['p'] += p\n",
    "        macro['r'] += r\n",
    "        macro['f1'] += f1\n",
    "\n",
    "        if cat in ['positive', 'negative']:\n",
    "            semevalmacro['p'] += p\n",
    "            semevalmacro['r'] += r\n",
    "            semevalmacro['f1'] += f1\n",
    "\n",
    "        itemcount += n\n",
    "\n",
    "    micro['p'] = float(microtp) / float(microtp + microfp)\n",
    "    micro['r'] = float(microtp) / float(microtp + microfn)\n",
    "    micro['f1'] = 2 * float(micro['p']) * micro['r'] / float(micro['p'] + micro['r'])\n",
    "\n",
    "    semevalmacrof1 = semevalmacro['f1'] / 2\n",
    "\n",
    "    print(testset + ' (' + classifier + '): %.3f' % semevalmacrof1)"
   ]
  },
  {
   "attachments": {},
   "cell_type": "markdown",
   "metadata": {},
   "source": [
    "#### Import necessary packages"
   ]
  },
  {
   "cell_type": "code",
   "execution_count": 69,
   "metadata": {},
   "outputs": [],
   "source": [
    "# Import necessary packages\n",
    "import re\n",
    "from os.path import join\n",
    "import numpy as np\n",
    "import nltk\n",
    "import pandas as pd\n",
    "import jsonlines\n",
    "from nltk.stem import WordNetLemmatizer\n",
    "from nltk import word_tokenize, pos_tag\n",
    "from nltk.corpus import wordnet\n",
    "from sklearn.model_selection import GridSearchCV\n",
    "from nltk.classify import NaiveBayesClassifier\n",
    "from nltk.classify import accuracy as nltk_accuracy\n",
    "from sklearn.metrics import classification_report\n",
    "from nltk.corpus import stopwords\n",
    "from bs4 import BeautifulSoup\n",
    "import emoji\n",
    "from tensorflow.keras.preprocessing.text import Tokenizer\n",
    "from sklearn.feature_extraction.text import TfidfVectorizer\n",
    "from sklearn.svm import SVC\n",
    "from sklearn.metrics import classification_report\n",
    "from gensim.models import KeyedVectors\n",
    "import torch\n",
    "import torch.nn as nn\n",
    "import torch.nn.functional as F\n",
    "from sklearn.naive_bayes import BernoulliNB\n",
    "from tensorflow.keras.preprocessing.sequence import pad_sequences\n",
    "import tensorflow as tf\n",
    "from torch.optim import Adam\n",
    "import matplotlib.pyplot as plt\n",
    "import pickle"
   ]
  },
  {
   "cell_type": "code",
   "execution_count": 70,
   "metadata": {},
   "outputs": [],
   "source": [
    "# Define test sets\n",
    "testsets = ['twitter-test1.txt', 'twitter-test2.txt', 'twitter-test3.txt']\n"
   ]
  },
  {
   "cell_type": "code",
   "execution_count": 71,
   "metadata": {},
   "outputs": [],
   "source": [
    "# Skeleton: Evaluation code for the test sets\n",
    "def read_data(testset):\n",
    "    '''\n",
    "    readin the testset and return a dictionary\n",
    "    :param testset: str, the file name of the testset to compare\n",
    "    '''\n",
    "    id=[]\n",
    "    sentiment=[]\n",
    "    tweet=[]\n",
    "    with open(testset, 'r', encoding='utf8') as fh:\n",
    "        for line in fh:\n",
    "            fields = line.split('\\t')\n",
    "            id.append (fields[0])\n",
    "            sentiment.append (fields[1])\n",
    "            tweet.append (fields[2])\n",
    "    df = pd.DataFrame({'tweetid': id, 'sentiment': sentiment, 'tweet': tweet})\n",
    "\n",
    "    return df\n"
   ]
  },
  {
   "cell_type": "markdown",
   "metadata": {},
   "source": [
    "#### Load training set, dev set and testing set\n",
    "Here, you need to load the training set, the development set and the test set. For better classification results, you may need to preprocess tweets before sending them to the classifiers."
   ]
  },
  {
   "cell_type": "code",
   "execution_count": 72,
   "metadata": {},
   "outputs": [],
   "source": [
    "# Load training set, dev set and testing set\n",
    "trainset = {}\n",
    "devset = {}\n",
    "testset1 = {}\n",
    "testset2 = {}\n",
    "testset3 = {}\n",
    "trainset=read_data(\"twitter-training-data.txt\")\n",
    "devset=read_data(\"twitter-dev-data.txt\")\n",
    "testset1=read_data(\"twitter-test1.txt\")\n",
    "testset2=read_data(\"twitter-test2.txt\")\n",
    "testset3=read_data(\"twitter-test3.txt\")\n"
   ]
  },
  {
   "cell_type": "code",
   "execution_count": 73,
   "metadata": {},
   "outputs": [],
   "source": [
    "def get_dataset_distribution(dataset):\n",
    "\n",
    "    num_negative = (dataset['sentiment'] == 'negative').sum()\n",
    "    num_positive = (dataset['sentiment'] == 'positive').sum()\n",
    "    num_neutral = (dataset['sentiment'] == 'neutral').sum()\n",
    "    list=[num_negative,num_positive,num_neutral]\n",
    "    return list\n",
    "trainset_distribution=get_dataset_distribution(trainset)\n",
    "devset_distribution=get_dataset_distribution(devset)\n",
    "testset1_distribution=get_dataset_distribution(testset1)\n",
    "testset2_distribution=get_dataset_distribution(testset2)\n",
    "testset3_distribution=get_dataset_distribution(testset3)\n",
    "distribution=[trainset_distribution,devset_distribution,testset1_distribution,testset2_distribution,testset3_distribution]\n",
    "title=['trainset','devset','testset1','testset2','testset3']"
   ]
  },
  {
   "cell_type": "code",
   "execution_count": 74,
   "metadata": {},
   "outputs": [
    {
     "data": {
      "image/png": "[encoded data removed]",
      "text/plain": [
       "<Figure size 1080x216 with 5 Axes>"
      ]
     },
     "metadata": {},
     "output_type": "display_data"
    }
   ],
   "source": [
    "# Pie chart with category distribution\n",
    "# Pie chart labels\n",
    "labels = ['Negative', 'Positive', 'Neutral']\n",
    "\n",
    "# Create 5 subplots\n",
    "fig, axs = plt.subplots(1, 5, figsize=(15, 3))\n",
    "\n",
    "# Plot each sub diagram\n",
    "for i in range(5):\n",
    "    data = distribution[i]\n",
    "    axs[i].pie(data, labels=labels)\n",
    "    axs[i].set_title(f'Class distribution of {title[i]}')\n",
    "\n",
    "# Adjust the spacing and margins between subplots\n",
    "plt.subplots_adjust(wspace=0.3, left=0.05, right=0.95)\n",
    "\n",
    "plt.show()"
   ]
  },
  {
   "attachments": {},
   "cell_type": "markdown",
   "metadata": {},
   "source": [
    "数据平衡"
   ]
  },
  {
   "cell_type": "code",
   "execution_count": 75,
   "metadata": {},
   "outputs": [],
   "source": [
    "# Calculate the number of samples to be deleted\n",
    "num_to_remove = 5000\n",
    "\n",
    "# Get the index of all samples whose sentiment is neutral\n",
    "negative_idx = trainset[trainset['sentiment'] == 'neutral'].index\n",
    "\n",
    "# Randomly selected index of num_to_remove samples\n",
    "remove_idx = np.random.choice(negative_idx, size=num_to_remove, replace=False)\n",
    "\n",
    " # Delete the selected sample\n",
    "balanced_trainset=trainset.drop(remove_idx)"
   ]
  },
  {
   "cell_type": "code",
   "execution_count": 76,
   "metadata": {},
   "outputs": [],
   "source": [
    "train_label=[trainset.iloc[index][\"sentiment\"] for index in range(len(trainset))]\n",
    "balanced_train_label=[balanced_trainset.iloc[index][\"sentiment\"] for index in range(len(balanced_trainset))]\n",
    "dev_label=[devset.iloc[index][\"sentiment\"] for index in range(len(devset))]\n",
    "test1_label=[testset1.iloc[index][\"sentiment\"] for index in range(len(testset1))]\n",
    "test2_label=[testset2.iloc[index][\"sentiment\"] for index in range(len(testset2))]\n",
    "test3_label=[testset3.iloc[index][\"sentiment\"] for index in range(len(testset3))]"
   ]
  },
  {
   "attachments": {},
   "cell_type": "markdown",
   "metadata": {},
   "source": [
    "### Tokenization and Lemmatization"
   ]
  },
  {
   "cell_type": "code",
   "execution_count": 77,
   "metadata": {},
   "outputs": [
    {
     "name": "stderr",
     "output_type": "stream",
     "text": [
      "[nltk_data] Downloading package wordnet to\n",
      "[nltk_data]     C:\\Users\\hongj\\AppData\\Roaming\\nltk_data...\n",
      "[nltk_data]   Package wordnet is already up-to-date!\n",
      "[nltk_data] Downloading package punkt to\n",
      "[nltk_data]     C:\\Users\\hongj\\AppData\\Roaming\\nltk_data...\n",
      "[nltk_data]   Package punkt is already up-to-date!\n",
      "[nltk_data] Downloading package averaged_perceptron_tagger to\n",
      "[nltk_data]     C:\\Users\\hongj\\AppData\\Roaming\\nltk_data...\n",
      "[nltk_data]   Package averaged_perceptron_tagger is already up-to-\n",
      "[nltk_data]       date!\n",
      "[nltk_data] Downloading package stopwords to\n",
      "[nltk_data]     C:\\Users\\hongj\\AppData\\Roaming\\nltk_data...\n",
      "[nltk_data]   Package stopwords is already up-to-date!\n"
     ]
    },
    {
     "data": {
      "text/plain": [
       "True"
      ]
     },
     "execution_count": 77,
     "metadata": {},
     "output_type": "execute_result"
    }
   ],
   "source": [
    "# First need to download the required data package\n",
    "nltk.download('wordnet')\n",
    "nltk.download('punkt')\n",
    "nltk.download('averaged_perceptron_tagger')\n",
    "# List of deactivated words\n",
    "nltk.download('stopwords')"
   ]
  },
  {
   "cell_type": "code",
   "execution_count": 78,
   "metadata": {},
   "outputs": [],
   "source": [
    "wnl = WordNetLemmatizer()\n",
    "\n",
    "def get_wordnet_pos(tag):\n",
    "    if tag.startswith('J'):\n",
    "        return wordnet.ADJ\n",
    "    elif tag.startswith('V'):\n",
    "        return wordnet.VERB\n",
    "    elif tag.startswith('N'):\n",
    "        return wordnet.NOUN\n",
    "    elif tag.startswith('R'):\n",
    "        return wordnet.ADV\n",
    "    else:\n",
    "        return None\n",
    "# Load the list of deactivated words\n",
    "def lemmation(data):\n",
    "    lemmatizer = WordNetLemmatizer()\n",
    "    lemma =[]\n",
    "    # Use Parts of speech (POS) to specify lexical properties\n",
    "    tagged_sent = nltk.pos_tag(data)\n",
    "\n",
    "    for tag in tagged_sent:\n",
    "        wordnet_pos = get_wordnet_pos(tag[1]) or wordnet.NOUN\n",
    "        lemma.append(wnl.lemmatize(tag[0], pos=wordnet_pos)) \n",
    "    return lemma\n",
    "\n",
    "stop_words = set(stopwords.words('english'))\n",
    "\n",
    "# Do not remove stop words\n",
    "def clean_list(voca_list):\n",
    "        # Use regular expressions to parse and clean up text\n",
    "        for index in range(len(voca_list)):\n",
    "                voca_list[index]=voca_list[index].lower()\n",
    "        voca=[]\n",
    "        for index in range(len(voca_list)):\n",
    "                item=voca_list[index]\n",
    "                # Clear all forms of URLs\n",
    "                cleaned_text = re.sub(r'https?://\\S+', '', item)\n",
    "                # Turn emoji into text descriptions\n",
    "                cleaned_text = emoji.demojize(cleaned_text)\n",
    "                # Clear words of length 1\n",
    "                cleaned_text = \" \".join(re.findall(r'\\b\\w{2,}\\b', cleaned_text))\n",
    "                # Delete special characters\n",
    "                cleaned_text = re.sub(r'[.\\,\\!\\$\\%\\^&\\*\\(\\)=\\-_`~\\+\\{\\}<>\\?\\:\\;\\'\\\"\\[\\]\\|\\@]', ' ', cleaned_text) # Delete special characters和表情符号\n",
    "                # Splitting words\n",
    "                cleaned_text = cleaned_text.split()\n",
    "                # if len(cleaned_text)!=1:\n",
    "                #   cleaned_text = [word for word in cleaned_text if word.lower() not in stop_words]\n",
    "                cleaned_text = lemmation(cleaned_text)\n",
    "                voca.append(cleaned_text)\n",
    "        return(voca)    \n",
    "\n",
    "def pre_process(data):\n",
    "        # Get the \"content\" field, and put them in a new list\n",
    "        voca_list=[]\n",
    "        # content_list={}\n",
    "        content_list=[]\n",
    "        for index in range(data.shape[0]):\n",
    "                voca_list.append(data.iloc[index][\"tweet\"])\n",
    "                content_list.append(data.iloc[index][\"tweet\"])\n",
    "        # Clean up the voca_list\n",
    "        voca_list=clean_list(voca_list)\n",
    "        content_list=clean_list(content_list)\n",
    "        return content_list,voca_list\n",
    "\n",
    "# Removal of deactivation\n",
    "def clean_list1(voca_list):\n",
    "        # Use regular expressions to parse and clean up text\n",
    "        for index in range(len(voca_list)):\n",
    "                voca_list[index]=voca_list[index].lower()\n",
    "        voca=[]\n",
    "        for index in range(len(voca_list)):\n",
    "                item=voca_list[index]\n",
    "                # Clear all forms of URLs\n",
    "                cleaned_text = re.sub(r'https?://\\S+', '', item)\n",
    "                # Turn emoji into text descriptions\n",
    "                cleaned_text = emoji.demojize(cleaned_text)\n",
    "                # Clear words of length 1\n",
    "                cleaned_text = \" \".join(re.findall(r'\\b\\w{2,}\\b', cleaned_text))\n",
    "                # Delete special characters\n",
    "                cleaned_text = re.sub(r'[.\\,\\!\\$\\%\\^&\\*\\(\\)=\\-_`~\\+\\{\\}<>\\?\\:\\;\\'\\\"\\[\\]\\|\\@]', ' ', cleaned_text)\n",
    "                # Splitting words\n",
    "                cleaned_text = cleaned_text.split()\n",
    "                if len(cleaned_text)!=1:\n",
    "# Deactivated words are words that occur frequently in text but usually do not carry an actual meaning, such as \"a\", \"the\", \"of\", etc. During text processing, these deactivated words are usually removed from the text in order to better extract useful information from the text.                  cleaned_text = [word for word in cleaned_text if word.lower() not in stop_words]\n",
    "                    cleaned_text = lemmation(cleaned_text)\n",
    "                voca.append(cleaned_text)\n",
    "        return(voca)   \n",
    "        \n",
    "\n",
    "def pre_process1(data):\n",
    "        # Get the \"content\" field, and put them in a new list\n",
    "        voca_list=[]\n",
    "        # content_list={}\n",
    "        content_list=[]\n",
    "        for index in range(data.shape[0]):\n",
    "                voca_list.append(data.iloc[index][\"tweet\"])\n",
    "                content_list.append(data.iloc[index][\"tweet\"])\n",
    "        # Clean up the voca_list\n",
    "        voca_list=clean_list1(voca_list)\n",
    "        content_list=clean_list1(content_list)\n",
    "        return content_list,voca_list\n",
    "        "
   ]
  },
  {
   "cell_type": "code",
   "execution_count": 79,
   "metadata": {},
   "outputs": [],
   "source": [
    "trainset_preprocessed,_ = pre_process(trainset)\n",
    "balanced_trainset_preprocessed,vocabulary = pre_process(balanced_trainset)\n",
    "devset_preprocessed,_ = pre_process(devset)\n",
    "testset1_preprocessed,_ = pre_process(testset1)\n",
    "testset2_preprocessed,_ = pre_process(testset2)\n",
    "testset3_preprocessed,_ = pre_process(testset3)"
   ]
  },
  {
   "cell_type": "code",
   "execution_count": 80,
   "metadata": {},
   "outputs": [],
   "source": [
    "# trainset_preprocessed_stop,_ = pre_process1(trainset)\n",
    "# balanced_trainset_preprocessed_stop,vocabulary_stop = pre_process1(balanced_trainset)\n",
    "# devset_preprocessed_stop,_ = pre_process1(devset)\n",
    "# testset1_preprocessed_stop,_ = pre_process1(testset1)\n",
    "# testset2_preprocessed_stop,_ = pre_process1(testset2)\n",
    "# testset3_preprocessed_stop,_ = pre_process1(testset3)"
   ]
  },
  {
   "attachments": {},
   "cell_type": "markdown",
   "metadata": {},
   "source": [
    "### Naive Bayesian classifier"
   ]
  },
  {
   "cell_type": "code",
   "execution_count": 81,
   "metadata": {},
   "outputs": [],
   "source": [
    "# wnl = WordNetLemmatizer()\n",
    "# lemmas_sent_orginal = []\n",
    "# # [privilege,.....,....]\n",
    "# lemmas_sent_list_orginal=[]\n",
    "# # [('aaqibafzaal', 'JJ'), ('pakistan', 'NN'), ('may', 'MD'), ('be', 'VB'), ('an', 'DT'), ('islamic', 'JJ'), ('country', 'NN'), ('but', 'CC'), ('der', 'NN'), ('are', 'VBP'), ('lot', 'VBN'), ('true', 'JJ'), ('muslims', 'NNS'), ('in', 'IN'), ('india', 'NN'), ('who', 'WP'), ('love', 'VBP'), ('their', 'PRP$'), ('country', 'NN'), ('and', 'CC'), ('can', 'MD'), ('sacrifice', 'VB'), ('all', 'DT'), ('for', 'IN'), ('it', 'PRP')]\n",
    "# for tokens in vocabulary:\n",
    "#     # 使用Parts of speech（POS）指定词性\n",
    "#     tagged_sent = nltk.pos_tag(tokens)\n",
    "\n",
    "#     for tag in tagged_sent:\n",
    "#         wordnet_pos = get_wordnet_pos(tag[1]) or wordnet.NOUN\n",
    "#         lemmas_sent_orginal.append(wnl.lemmatize(tag[0], pos=wordnet_pos)) # 词形还原\n",
    "    \n",
    "#     lemmas_sent_list_orginal.append(tagged_sent)\n",
    "# print(len(lemmas_sent_orginal))\n",
    "# lemmas_sent=lemmas_sent_orginal[:5000]\n",
    "# lemmas_sent_list=lemmas_sent_list_orginal[:5000]"
   ]
  },
  {
   "attachments": {},
   "cell_type": "markdown",
   "metadata": {},
   "source": [
    "创建一个词汇表，并将数据集中的所有单词按照相同的顺序添加到词汇表中："
   ]
  },
  {
   "cell_type": "code",
   "execution_count": 82,
   "metadata": {},
   "outputs": [],
   "source": [
    "# # Splitting words\n",
    "# tokenizer = Tokenizer()\n",
    "# tokenizer.fit_on_texts(lemmas_sent)\n",
    "# count_lemma = tokenizer.word_index"
   ]
  },
  {
   "attachments": {},
   "cell_type": "markdown",
   "metadata": {},
   "source": [
    "处理训练集和验证集\n",
    "\n",
    "<!-- 特征提取: TF-IDF -->\n",
    "\n",
    "在文本分类任务中，我们通常将一个单词作为一个特征，如果这个单词出现在文本中，我们就认为这个特征出现了。例如，如果我们以单词为特征，将一个句子 \"The quick brown fox jumps over the lazy dog\" 分解成单词，那么这个句子就包含了若干个特征，比如 \"The\"、\"quick\"、\"brown\"、\"fox\" 等等。如果某个单词出现在文本中，那么对应的特征就被标记为 True，否则为 False，这个特征向量就作为分类器的输入。\n",
    "\n",
    "在朴素贝叶斯分类器中，每个特征都被视为独立的条件概率，因此只要某个特征出现在文本中，就可以对该特征进行概率计算，用于分类预测。"
   ]
  },
  {
   "cell_type": "code",
   "execution_count": 83,
   "metadata": {},
   "outputs": [],
   "source": [
    "\n",
    "# # # 将每个实例转换成一个特征向量\n",
    "# # # 定义特征提取函数\n",
    "# def get_features(document):\n",
    "#     features = {}\n",
    "#     for word, i in count_lemma.items():\n",
    "#         features[word] = (word in document)\n",
    "#     return features\n",
    "\n",
    "\n",
    "# def get_features_naive_bays(dataset):\n",
    "#     dataset_features = []\n",
    "#     for index in range(len(dataset)):\n",
    "#         tokens = dataset[index]\n",
    "#         # tokens = nltk.word_tokenize(dataset[index])\n",
    "#         context = get_features(tokens)\n",
    "#         label = trainset.iloc[index][\"sentiment\"]\n",
    "#         dataset_features.append((context, label))\n",
    "#     return dataset_features\n",
    "\n",
    "\n",
    "# train_features = get_features_naive_bays(trainset_preprocessed)\n",
    "# balanced_train_features = get_features_naive_bays(balanced_trainset_preprocessed)\n",
    "# dev_features = get_features_naive_bays(devset_preprocessed)\n",
    "# test1_features = get_features_naive_bays(testset1_preprocessed)\n",
    "# test2_features = get_features_naive_bays(testset2_preprocessed)\n",
    "# test3_features = get_features_naive_bays(testset3_preprocessed)\n",
    "\n"
   ]
  },
  {
   "cell_type": "code",
   "execution_count": 84,
   "metadata": {},
   "outputs": [],
   "source": [
    "# # 训练NaiveBayesClassifier模型\n",
    "# # 会报错 TypeError: init() missing 2 required positional arguments: 'label_probdist' and 'feature_probdist'，是因为 nltk.NaiveBayesClassifier() 构造函数需要 label_probdist 和 feature_probdist 两个必需的参数，这两个参数分别表示标签和特征的概率分布。\n",
    "# # 相反，使用 classifier = NaiveBayesClassifier.train(train_features) 不会报错是因为 train 是一个静态方法，可以直接从类中调用。在这种情况下，首先会创建一个 NaiveBayesClassifier 对象，然后调用 train 方法来训练分类器，该方法需要一个特征列表 train_features 作为参数。在训练过程中，train 方法将自动估计标签和特征的概率分布，并将它们作为参数传递给 NaiveBayesClassifier 的构造函数。因此，在使用 train 方法时，不需要手动指定 label_probdist 和 feature_probdist 参数。\n",
    "# classifier = NaiveBayesClassifier.train(balanced_train_features)\n",
    "# # 模型评估\n",
    "# print('Accuracy:', nltk_accuracy(classifier, dev_features))"
   ]
  },
  {
   "cell_type": "code",
   "execution_count": 85,
   "metadata": {},
   "outputs": [],
   "source": [
    "# def get_naive_result(classifier,features,df,path):\n",
    "#     dic_result={}\n",
    "#     for index in range(len(features)):\n",
    "#         index_d=df.iloc[index][\"tweetid\"]\n",
    "#         dic_result[index_d]=classifier.classify(features[index][0])\n",
    "#     # dic_result = {str(k): v for k, v in dic_result.items()}\n",
    "#     evaluate(dic_result, path, \"Naive Bayes Classifier\")\n",
    "#     confusion(dic_result, path, \"Naive Bayes Classifier\")"
   ]
  },
  {
   "cell_type": "code",
   "execution_count": 86,
   "metadata": {},
   "outputs": [],
   "source": [
    "# get_naive_result(classifier,test1_features,testset1, \"twitter-test1.txt\")\n",
    "# get_naive_result(classifier,test2_features,testset2,\"twitter-test2.txt\")\n",
    "# get_naive_result(classifier,test3_features,testset3,\"twitter-test3.txt\")"
   ]
  },
  {
   "attachments": {},
   "cell_type": "markdown",
   "metadata": {},
   "source": [
    "**Before data balancing**\n",
    "\n",
    "twitter-test1.txt (BernoulliNB): 0.419\n",
    "\n",
    "            positive  negative  neutral\n",
    "\n",
    "positive    0.670     0.088     0.242  \n",
    "\n",
    "negative    0.151     0.634     0.215 \n",
    "\n",
    "neutral     0.251     0.184     0.565     \n",
    "\n",
    "twitter-test2.txt (BernoulliNB): 0.430\n",
    "\n",
    "            positive  negative  neutral\n",
    "\n",
    "positive    0.711     0.078     0.211   \n",
    "\n",
    "negative    0.071     0.607     0.321   \n",
    "\n",
    "neutral     0.332     0.129     0.539     \n",
    "\n",
    "twitter-test3.txt (BernoulliNB): 0.434\n",
    "\n",
    "            positive  negative  neutral\n",
    "\n",
    "positive    0.679     0.093     0.227     \n",
    "\n",
    "negative    0.175     0.598     0.227     \n",
    "\n",
    "neutral     0.304     0.158     0.538   \n",
    "\n",
    "**After data balancing**\n",
    "\n",
    "twitter-test1.txt (Naive Bayes Classifier): 0.528\n",
    "\n",
    "            positive  negative  neutral\n",
    "\n",
    "positive    0.562     0.095     0.343     \n",
    "\n",
    "negative    0.206     0.487     0.307   \n",
    "\n",
    "neutral     0.230     0.152     0.618     \n",
    "\n",
    "\n",
    "twitter-test2.txt (Naive Bayes Classifier): 0.520\n",
    "\n",
    "            positive  negative  neutral\n",
    "\n",
    "positive    0.625     0.076     0.299     \n",
    "\n",
    "negative    0.232     0.432     0.336     \n",
    "\n",
    "neutral     0.336     0.114     0.550     \n",
    "\n",
    "\n",
    "twitter-test3.txt (Naive Bayes Classifier): 0.529\n",
    "\n",
    "            positive  negative  neutral\n",
    "\n",
    "positive    0.602     0.090     0.308     \n",
    "\n",
    "negative    0.261     0.441     0.298     \n",
    "\n",
    "neutral     0.269     0.131     0.600     \n",
    "\n",
    "\n"
   ]
  },
  {
   "attachments": {},
   "cell_type": "markdown",
   "metadata": {},
   "source": [
    "### BernoulliNB"
   ]
  },
  {
   "attachments": {},
   "cell_type": "markdown",
   "metadata": {},
   "source": [
    "The data set is vectorised and the processed data set is used in both BernoulliNB and SVC models\n",
    "\n",
    "The TfidfVectorizer represents text as a document-word-item matrix, where each row represents a text and each column represents a word-item. Each element represents the tf-idf value of the lexical item in that text. The text data is transformed into a vectorised representation using the fit_transform function. Because of the large number of texts in an instance, the TfidfVectorizer here is initialised with max_features set to 3000 and min_df set to 5. max_features indicates the maximum number of features allowed to be extracted during the training process, and min_df indicates the minimum document frequency of word occurrences in the vocabulary."
   ]
  },
  {
   "cell_type": "code",
   "execution_count": 87,
   "metadata": {},
   "outputs": [
    {
     "name": "stdout",
     "output_type": "stream",
     "text": [
      "Build a vectorizer!\n"
     ]
    }
   ],
   "source": [
    "# Vectorisation of text\n",
    "vectorizer = TfidfVectorizer(max_features=3000, min_df=5)\n",
    "\n",
    "trainset_preprocessed_new_2000 = [' '.join(text) for text in trainset_preprocessed]\n",
    "X_1000 = vectorizer.fit_transform(trainset_preprocessed_new_2000)\n",
    "devset_preprocessed_new_2000 = [' '.join(text) for text in devset_preprocessed]\n",
    "dev_X_1000 = vectorizer.transform(devset_preprocessed_new_2000)\n",
    "testset1_preprocessed_new_2000 = [' '.join(text) for text in testset1_preprocessed]\n",
    "test1_X_1000=vectorizer.transform(testset1_preprocessed_new_2000)\n",
    "testset2_preprocessed_new_2000 = [' '.join(text) for text in testset2_preprocessed]\n",
    "test2_X_1000=vectorizer.transform(testset2_preprocessed_new_2000)\n",
    "testset3_preprocessed_new_2000 = [' '.join(text) for text in testset3_preprocessed]\n",
    "test3_X_1000=vectorizer.transform(testset3_preprocessed_new_2000)\n",
    "\n",
    "print(\"Build a vectorizer!\")"
   ]
  },
  {
   "attachments": {},
   "cell_type": "markdown",
   "metadata": {},
   "source": [
    "Finding the optimal combination of parameters"
   ]
  },
  {
   "cell_type": "code",
   "execution_count": 88,
   "metadata": {},
   "outputs": [],
   "source": [
    "\n",
    "# model = BernoulliNB()\n",
    "# param_grid = {\n",
    "#     'alpha': [0.1, 1.0, 10.0,100],\n",
    "#     'fit_prior': [True, False],\n",
    "#     'class_prior': [None, [0.3, 0.7], [0.4, 0.6]]\n",
    "# }\n",
    "\n",
    "# grid_search = GridSearchCV(model, param_grid, cv=5)\n",
    "# grid_search.fit(X, train_label)\n",
    "\n",
    "# print('Best params:', grid_search.best_params_)\n",
    "# print('Best score:', grid_search.best_score_)\n"
   ]
  },
  {
   "attachments": {},
   "cell_type": "markdown",
   "metadata": {},
   "source": [
    "Best params: {'alpha': 10.0, 'class_prior': None, 'fit_prior': True}\n",
    "Best score: 0.6234396071075079"
   ]
  },
  {
   "cell_type": "code",
   "execution_count": 89,
   "metadata": {},
   "outputs": [
    {
     "data": {
      "text/plain": [
       "BernoulliNB(alpha=10.0)"
      ]
     },
     "execution_count": 89,
     "metadata": {},
     "output_type": "execute_result"
    }
   ],
   "source": [
    "# Model training\n",
    "BernoulliNB_classifier = BernoulliNB(alpha= 10.0, class_prior= None, fit_prior= True)\n",
    "BernoulliNB_classifier.fit(X_1000, train_label)"
   ]
  },
  {
   "cell_type": "code",
   "execution_count": 90,
   "metadata": {},
   "outputs": [],
   "source": [
    "# Print result\n",
    "def get_BernoulliNB_result(classifier,dataset,df,path):\n",
    "    dic_result={}\n",
    "    BernoulliNB_classifier_result=classifier.predict(dataset)\n",
    "    for index in range(len(BernoulliNB_classifier_result)):\n",
    "        index_d=df.iloc[index][\"tweetid\"]\n",
    "        dic_result[index_d]=BernoulliNB_classifier_result[index]\n",
    "    dic_result = {str(k): v for k, v in dic_result.items()}\n",
    "    evaluate(dic_result, path, \"BernoulliNB\")\n",
    "    confusion(dic_result, path, \"BernoulliNB\")"
   ]
  },
  {
   "cell_type": "code",
   "execution_count": 91,
   "metadata": {},
   "outputs": [
    {
     "name": "stdout",
     "output_type": "stream",
     "text": [
      "Test one\n",
      "              precision    recall  f1-score   support\n",
      "\n",
      "    negative       0.45      0.58      0.51       294\n",
      "     neutral       0.67      0.63      0.65       986\n",
      "    positive       0.66      0.64      0.65       720\n",
      "\n",
      "    accuracy                           0.62      2000\n",
      "   macro avg       0.59      0.62      0.60      2000\n",
      "weighted avg       0.63      0.62      0.63      2000\n",
      "\n"
     ]
    }
   ],
   "source": [
    "dev_X_labels = BernoulliNB_classifier.predict(dev_X_1000)\n",
    "\n",
    "# Printed model evaluation results\n",
    "print(\"Test one\")\n",
    "print(classification_report(dev_X_labels,dev_label))"
   ]
  },
  {
   "cell_type": "code",
   "execution_count": 92,
   "metadata": {},
   "outputs": [
    {
     "name": "stdout",
     "output_type": "stream",
     "text": [
      "twitter-test1.txt (BernoulliNB): 0.467\n",
      "            positive  negative  neutral\n",
      "positive    0.658     0.083     0.259     \n",
      "negative    0.167     0.681     0.153     \n",
      "neutral     0.254     0.175     0.571     \n",
      "\n",
      "twitter-test2.txt (BernoulliNB): 0.478\n",
      "            positive  negative  neutral\n",
      "positive    0.716     0.077     0.207     \n",
      "negative    0.082     0.592     0.327     \n",
      "neutral     0.323     0.120     0.557     \n",
      "\n",
      "twitter-test3.txt (BernoulliNB): 0.484\n",
      "            positive  negative  neutral\n",
      "positive    0.683     0.087     0.230     \n",
      "negative    0.236     0.547     0.217     \n",
      "neutral     0.292     0.149     0.559     \n",
      "\n"
     ]
    }
   ],
   "source": [
    "get_BernoulliNB_result(BernoulliNB_classifier,test1_X_1000,testset1,\"twitter-test1.txt\")\n",
    "get_BernoulliNB_result(BernoulliNB_classifier,test2_X_1000,testset2,\"twitter-test2.txt\")\n",
    "get_BernoulliNB_result(BernoulliNB_classifier,test3_X_1000,testset3,\"twitter-test3.txt\")"
   ]
  },
  {
   "attachments": {},
   "cell_type": "markdown",
   "metadata": {},
   "source": [
    "### SVM\n",
    "\n"
   ]
  },
  {
   "attachments": {},
   "cell_type": "markdown",
   "metadata": {},
   "source": [
    "Finding the optimal parameters based on half of the data because the training set is too large"
   ]
  },
  {
   "cell_type": "code",
   "execution_count": 93,
   "metadata": {},
   "outputs": [],
   "source": [
    "# para_train_label=train_label[:len(train_label)//2]\n",
    "# X_half = X[:X.shape[0]//2, :]"
   ]
  },
  {
   "cell_type": "code",
   "execution_count": 94,
   "metadata": {},
   "outputs": [],
   "source": [
    "# from sklearn.model_selection import GridSearchCV\n",
    "\n",
    "# model_svc = SVC()\n",
    "\n",
    "# # Set the list of parameters to be optimised\n",
    "# param_grid = {\n",
    "#     \"kernel\": ['poly', \"linear\", 'rbf']\n",
    "# }\n",
    "\n",
    "# # Cross-validation of models using GridSearchCV\n",
    "# grid_search = GridSearchCV(model_svc, param_grid, scoring='f1', cv=5)\n",
    "# grid_search.fit(X_half, para_train_label)\n",
    "\n",
    "# # Print optimal parameters\n",
    "# print(\"Best parameters: \", grid_search.best_params_)"
   ]
  },
  {
   "attachments": {},
   "cell_type": "markdown",
   "metadata": {},
   "source": [
    "Best parameters:  {'kernel': 'poly'}\n"
   ]
  },
  {
   "cell_type": "code",
   "execution_count": 95,
   "metadata": {},
   "outputs": [],
   "source": [
    "# # Training SVM models\n",
    "# model = SVC(kernel='poly')\n",
    "# model.fit(X_1000, train_label)\n",
    "\n",
    "# print(\"Train a model!\")\n",
    "\n",
    "# # Predictions on the test set\n",
    "# predictions = model.predict(dev_X_1000)\n",
    "\n",
    "# # Printed model evaluation results\n",
    "# print(classification_report(dev_label,predictions))"
   ]
  },
  {
   "cell_type": "code",
   "execution_count": 96,
   "metadata": {},
   "outputs": [],
   "source": [
    "# import pickle\n",
    "# model = SVC(kernel='rbf')\n",
    "# # Save the model as a .pth file\n",
    "# with open('SVC_model.pkl', 'wb') as f:\n",
    "#     pickle.dump(model, f)"
   ]
  },
  {
   "cell_type": "code",
   "execution_count": 97,
   "metadata": {},
   "outputs": [],
   "source": [
    "def get_SVC_result(model,features,df):\n",
    "    dic_result={}\n",
    "    for index in range(features.shape[0]):\n",
    "        index_d=df.iloc[index][\"tweetid\"]\n",
    "        # Convert the index in an array to a string type\n",
    "        dic_result[str(index_d)]=model.predict(features[index][0])[0]\n",
    "        \n",
    "        # break\n",
    "    return dic_result"
   ]
  },
  {
   "cell_type": "code",
   "execution_count": 98,
   "metadata": {},
   "outputs": [],
   "source": [
    "# dev_pred=get_SVC_result(model,dev_X_1000,devset)\n",
    "# evaluate(dev_pred, \"twitter-dev-data.txt\", \"SVM\")\n",
    "# confusion(dev_pred, \"twitter-dev-data.txt\", \"SVM\")\n",
    "\n",
    "# test1_pred=get_SVC_result(model,test1_X_1000,testset1)\n",
    "# evaluate(test1_pred, \"twitter-test1.txt\", \"SVM\")\n",
    "# confusion(test1_pred, \"twitter-test1.txt\", \"SVM\")\n",
    "\n",
    "# test2_pred=get_SVC_result(model,test2_X_1000,testset2)\n",
    "# evaluate(test2_pred, \"twitter-test2.txt\", \"SVM\")\n",
    "# confusion(test2_pred, \"twitter-test2.txt\", \"SVM\")\n",
    "\n",
    "# test3_pred=get_SVC_result(model,test3_X_1000,testset3)\n",
    "# evaluate(test3_pred, \"twitter-test3.txt\", \"SVM\")\n",
    "# confusion(test3_pred, \"twitter-test3.txt\", \"SVM\")"
   ]
  },
  {
   "cell_type": "code",
   "execution_count": 99,
   "metadata": {},
   "outputs": [
    {
     "name": "stdout",
     "output_type": "stream",
     "text": [
      "twitter-dev-data.txt (SVM): 0.424\n",
      "            positive  negative  neutral\n",
      "positive    0.761     0.042     0.197     \n",
      "negative    0.047     0.812     0.141     \n",
      "neutral     0.232     0.209     0.558     \n",
      "\n",
      "twitter-test1.txt (SVM): 0.331\n",
      "            positive  negative  neutral\n",
      "positive    0.815     0.046     0.139     \n",
      "negative    0.079     0.816     0.105     \n",
      "neutral     0.310     0.180     0.511     \n",
      "\n",
      "twitter-test2.txt (SVM): 0.363\n",
      "            positive  negative  neutral\n",
      "positive    0.841     0.041     0.117     \n",
      "negative    0.000     0.917     0.083     \n",
      "neutral     0.392     0.132     0.475     \n",
      "\n",
      "twitter-test3.txt (SVM): 0.320\n",
      "            positive  negative  neutral\n",
      "positive    0.806     0.046     0.147     \n",
      "negative    0.069     0.793     0.138     \n",
      "neutral     0.341     0.171     0.488     \n",
      "\n"
     ]
    }
   ],
   "source": [
    "with open('./model/SVC_model.pkl', 'rb') as f:\n",
    "    model = pickle.load(f)\n",
    "    dev_pred=get_SVC_result(model,dev_X_1000,devset)\n",
    "    evaluate(dev_pred, \"twitter-dev-data.txt\", \"SVM\")\n",
    "    confusion(dev_pred, \"twitter-dev-data.txt\", \"SVM\")\n",
    "\n",
    "    test1_pred=get_SVC_result(model,test1_X_1000,testset1)\n",
    "    evaluate(test1_pred, \"twitter-test1.txt\", \"SVM\")\n",
    "    confusion(test1_pred, \"twitter-test1.txt\", \"SVM\")\n",
    "\n",
    "    test2_pred=get_SVC_result(model,test2_X_1000,testset2)\n",
    "    evaluate(test2_pred, \"twitter-test2.txt\", \"SVM\")\n",
    "    confusion(test2_pred, \"twitter-test2.txt\", \"SVM\")\n",
    "\n",
    "    test3_pred=get_SVC_result(model,test3_X_1000,testset3)\n",
    "    evaluate(test3_pred, \"twitter-test3.txt\", \"SVM\")\n",
    "    confusion(test3_pred, \"twitter-test3.txt\", \"SVM\")"
   ]
  },
  {
   "attachments": {},
   "cell_type": "markdown",
   "metadata": {},
   "source": [
    "### Combining GloVe, LSTM to build a neural network"
   ]
  },
  {
   "attachments": {},
   "cell_type": "markdown",
   "metadata": {},
   "source": [
    "Handling data sets"
   ]
  },
  {
   "cell_type": "code",
   "execution_count": 100,
   "metadata": {},
   "outputs": [],
   "source": [
    "# Open the original GloVe model file\n",
    "with open('glove.6B.100d.txt', 'r', encoding='utf8') as f:\n",
    "    lines = f.readlines()\n",
    "\n",
    "# Add vocabulary and vector size information to the first line of the file\n",
    "lines.insert(0, '400000 100\\n')\n",
    "\n",
    "# Write the modified content to a new file\n",
    "with open('glove.6B.100d.new.txt', 'w', encoding='utf8') as f:\n",
    "    f.writelines(lines)"
   ]
  },
  {
   "cell_type": "code",
   "execution_count": 101,
   "metadata": {},
   "outputs": [],
   "source": [
    "glove_file = 'glove.6B.100d.new.txt'\n",
    "embedding_dict = {}\n",
    "with open(glove_file, 'r', encoding='utf-8') as f:\n",
    "    for line in f:\n",
    "        values = line.split()\n",
    "        word = values[0]\n",
    "        vector = np.asarray(values[1:], dtype='float32')\n",
    "        embedding_dict[word] = vector\n",
    "embedding_dim = len(embedding_dict['the'])"
   ]
  },
  {
   "attachments": {},
   "cell_type": "markdown",
   "metadata": {},
   "source": [
    "The size of embedding matrix is 5000*100"
   ]
  },
  {
   "cell_type": "code",
   "execution_count": 102,
   "metadata": {},
   "outputs": [],
   "source": [
    "\n",
    "embedding_dim=100\n",
    "def get_dataset_label_LSTM(dataset):\n",
    "    label_list = dataset['sentiment'].values.tolist()\n",
    "    label_list = [[1,0,0] if x == \"positive\" else x for x in label_list]\n",
    "    label_list = [[0,1,0] if x == \"negative\" else x for x in label_list]\n",
    "    label_list = [[0,0,1] if x == \"neutral\" else x for x in label_list]\n",
    "    label_array = np.array(label_list)\n",
    "    label_tensor = torch.tensor(label_array)\n",
    "    return label_tensor\n",
    "\n",
    "def get_test_label_LSTM(dataset):\n",
    "    label_list = dataset['sentiment'].values.tolist()\n",
    "    label_list = [0 if x == \"positive\" else x for x in label_list]\n",
    "    label_list = [1 if x == \"negative\" else x for x in label_list]\n",
    "    label_list = [2 if x == \"neutral\" else x for x in label_list]\n",
    "    label_array = np.array(label_list)\n",
    "    label_tensor = torch.tensor(label_array)\n",
    "    return label_tensor\n",
    "\n",
    "vocab_len=5000\n",
    "\n",
    "tokenizer = tf.keras.preprocessing.text.Tokenizer(num_words=vocab_len)\n",
    "# tokenizer = tf.keras.preprocessing.text.Tokenizer()\n",
    "def preprocess_data(data): \n",
    "    data_tokenized = []\n",
    "    tokenizer.fit_on_texts(data)\n",
    "    sequences = tokenizer.texts_to_sequences(data)\n",
    "\n",
    "    # print(data_tokenized[0])\n",
    "    sequences = pad_sequences(sequences, padding='pre', maxlen=15)\n",
    "    sequences = torch.tensor(sequences)\n",
    "    word_index = tokenizer.word_index\n",
    "    return word_index,sequences,tokenizer\n",
    "word_index, train_LSTM,tokenizer=preprocess_data(trainset_preprocessed)\n",
    "# embedding_matrix = np.zeros((len(word_index)+1, embedding_dim),dtype=\"float32\")\n",
    "embedding_matrix = np.zeros((vocab_len, embedding_dim),dtype=\"float32\")\n",
    "miss=0\n",
    "for word, i in word_index.items():\n",
    "    if i<vocab_len:\n",
    "        if word not in embedding_dict:\n",
    "          embedding_matrix[i] = embedding_dict.get('unk')\n",
    "          miss=miss+1\n",
    "        else:\n",
    "          embedding_matrix[i]= embedding_dict.get(word)"
   ]
  },
  {
   "cell_type": "code",
   "execution_count": 103,
   "metadata": {},
   "outputs": [],
   "source": [
    "train_label_LSTM=get_dataset_label_LSTM(trainset)\n",
    "dev_label_LSTM=get_test_label_LSTM(devset)\n",
    "test1_label_LSTM=get_test_label_LSTM(testset1)\n",
    "test2_label_LSTM=get_test_label_LSTM(testset2)\n",
    "test3_label_LSTM=get_test_label_LSTM(testset3)"
   ]
  },
  {
   "cell_type": "code",
   "execution_count": 104,
   "metadata": {},
   "outputs": [],
   "source": [
    "def preprocess_data_test(data,tokenizer):\n",
    "  sequences = tokenizer.texts_to_sequences(data)\n",
    "  sequences = pad_sequences(sequences, padding='pre', maxlen=15)\n",
    "  sequences = torch.tensor(sequences)\n",
    "  return sequences"
   ]
  },
  {
   "cell_type": "code",
   "execution_count": 105,
   "metadata": {},
   "outputs": [],
   "source": [
    "dev_LSTM =preprocess_data_test(devset_preprocessed,tokenizer)\n",
    "test1_LSTM =preprocess_data_test(testset1_preprocessed,tokenizer)\n",
    "test2_LSTM =preprocess_data_test(testset2_preprocessed,tokenizer)\n",
    "test3_LSTM =preprocess_data_test(testset3_preprocessed,tokenizer)"
   ]
  },
  {
   "cell_type": "code",
   "execution_count": 106,
   "metadata": {},
   "outputs": [],
   "source": [
    "# shuffle indicates whether batches are randomly split\n",
    "train_dataset = torch.utils.data.TensorDataset(train_LSTM, train_label_LSTM)\n",
    "train_dataloader = torch.utils.data.DataLoader(train_dataset, batch_size=4, shuffle=True)\n",
    "dev_dataset = torch.utils.data.TensorDataset(dev_LSTM, dev_label_LSTM)\n",
    "dev_dataloader = torch.utils.data.DataLoader(dev_dataset, batch_size=4, shuffle=False)\n",
    "test1_dataset = torch.utils.data.TensorDataset(test1_LSTM, test1_label_LSTM)\n",
    "test1_dataloader = torch.utils.data.DataLoader(test1_dataset, batch_size=32, shuffle=True)\n",
    "test2_dataset = torch.utils.data.TensorDataset(test2_LSTM, test2_label_LSTM)\n",
    "test2_dataloader = torch.utils.data.DataLoader(test2_dataset, batch_size=32, shuffle=False)\n",
    "test3_dataset = torch.utils.data.TensorDataset(test3_LSTM, test3_label_LSTM)\n",
    "test3_dataloader = torch.utils.data.DataLoader(test3_dataset, batch_size=32, shuffle=False)"
   ]
  },
  {
   "attachments": {},
   "cell_type": "markdown",
   "metadata": {},
   "source": [
    "###  Define LSTM model's architecture with limited embedding_matrix"
   ]
  },
  {
   "attachments": {},
   "cell_type": "markdown",
   "metadata": {},
   "source": [
    "Embedding layer: Converts the output numeric vectors into a vector representation.\n",
    "\n",
    "LSTM layer: Processes sequential data using LSTM to capture long-term dependencies.\n",
    "\n",
    "Output layer: Converts the final output into a classification probability using the Linear function."
   ]
  },
  {
   "cell_type": "code",
   "execution_count": 107,
   "metadata": {},
   "outputs": [],
   "source": [
    "import torch\n",
    "import torch.nn as nn\n",
    "import torch.nn.functional as F\n",
    "\n",
    "# Define the model\n",
    "class SentimentAnalysisModel(nn.Module):\n",
    "    def __init__(self, embedding_matrix,hidden_dim,dropout=0.2):\n",
    "        # The initialisation method of the SentimentAnalysisModel class's parent class, nn.Module, is called to ensure that the model is correctly initialised. The purpose of this line of code is to ensure that the model can successfully inherit from the nn.Module class and can use the various methods and properties it defines.\n",
    "        super(SentimentAnalysisModel, self).__init__()\n",
    "        # Defining the embedding layer\n",
    "        self.embedding_layer = nn.Embedding.from_pretrained(torch.from_numpy(embedding_matrix))\n",
    "        self.embedding_layer.weight.requires_grad = False\n",
    "        # Define the LSTM layer for extracting sequence features\n",
    "        self.lstm = nn.LSTM(embedding_matrix.shape[1],hidden_size=hidden_dim,dropout=dropout,num_layers=2,bidirectional=True,batch_first=True)\n",
    "        # Defining the fully connected layer\n",
    "        self.fc = nn.Linear(hidden_dim*2, 3)\n",
    "        \n",
    "        \n",
    "    def forward(self, input):\n",
    "\n",
    "        embedding_input = self.embedding_layer(input)\n",
    "\n",
    "        lstm_input, _ = self.lstm(embedding_input)\n",
    "\n",
    "        lstm_input = lstm_input[:, -1, :]\n",
    "\n",
    "        result = self.fc(lstm_input)\n",
    "\n",
    "        return result"
   ]
  },
  {
   "cell_type": "code",
   "execution_count": 108,
   "metadata": {},
   "outputs": [
    {
     "name": "stdout",
     "output_type": "stream",
     "text": [
      "(5000, 100)\n"
     ]
    }
   ],
   "source": [
    "print(embedding_matrix.shape)"
   ]
  },
  {
   "attachments": {},
   "cell_type": "markdown",
   "metadata": {},
   "source": [
    "Loss Function and Optimizer"
   ]
  },
  {
   "cell_type": "code",
   "execution_count": 109,
   "metadata": {},
   "outputs": [],
   "source": [
    "\n",
    "hidden_dum=128\n",
    "\n",
    " # Initialize the model, loss function, and optimizer\n",
    "model = SentimentAnalysisModel(embedding_matrix,hidden_dum)\n",
    "model.load_state_dict(torch.load('./model/best_lstm_500015.pth'))\n",
    "\n",
    "epochs        = 30\n",
    "learning_rate = 0.01\n",
    "\n",
    "# Loss Function\n",
    "loss_fn = nn.CrossEntropyLoss()\n",
    "# class_weight = torch.tensor([1.0, 2.0, 0.5])\n",
    "# loss_fn = nn.CrossEntropyLoss(weight=class_weight)\n",
    "\n",
    "# Optimizer\n",
    "optimizer = Adam(model.parameters(), lr=learning_rate)"
   ]
  },
  {
   "cell_type": "code",
   "execution_count": 110,
   "metadata": {},
   "outputs": [],
   "source": [
    "def get_RNN_result(classifier,datasent,df):\n",
    "    dic_result={}\n",
    "    for index in range(len(datasent)):\n",
    "        index_d=df.iloc[index][\"tweetid\"]\n",
    "        dic_result[index_d]=classifier.classify(datasent[index][0])\n",
    "    return dic_result\n",
    "\n",
    "def get_LSTM_result(result,df):\n",
    "    dic_result={}\n",
    "    for index in range(len(df)):\n",
    "        index_d=df.iloc[index][\"tweetid\"]\n",
    "        if result[index]==0:\n",
    "          dic_result[index_d]=\"positive\"\n",
    "        elif result[index]==1:\n",
    "          dic_result[index_d]=\"negative\"\n",
    "        else:\n",
    "          dic_result[index_d]=\"neutral\"\n",
    "    return dic_result"
   ]
  },
  {
   "attachments": {},
   "cell_type": "markdown",
   "metadata": {},
   "source": [
    "#### Training and Validation Accuracy"
   ]
  },
  {
   "cell_type": "code",
   "execution_count": 111,
   "metadata": {},
   "outputs": [],
   "source": [
    "# # Train the model\n",
    "# accuracy_list=[]\n",
    "# loss_list=[]\n",
    "# for epoch in range(epochs):\n",
    "#     model.train()\n",
    "#     loss_sum=0\n",
    "#     time=0\n",
    "\n",
    "#     for i, (inputs, labels) in enumerate(train_dataloader):\n",
    "        \n",
    "#         # labels = torch.tensor(labels, dtype=torch.long)\n",
    "#         optimizer.zero_grad()\n",
    "        \n",
    "#         outputs = model(inputs)\n",
    "#         _, predicted = torch.max(outputs.data, 1)\n",
    "#         labels = labels.float()\n",
    "#         loss = loss_fn(outputs, labels)\n",
    "#         loss_sum=loss_sum+loss.item()\n",
    "#         time=time+1\n",
    "        \n",
    "#         # print('Epoch [{}/{}], Step [{}/{}], Loss: {:.4f}'.format(epoch+1, epochs, i+1, len(train_dataloader), loss.item()))\n",
    "#         loss.backward()\n",
    "#         optimizer.step()\n",
    "#     print(\"average loss\",loss_sum/ time)\n",
    "#     loss_list.append(loss_sum/ time)\n",
    "#     # Evaluate on the validation set\n",
    "#     torch.save(model.state_dict(),\"best_lstm_5000\"+str(epoch)+\".pth\")\n",
    "#     model.eval()\n",
    "#     correct, total = 0, 0\n",
    "#     dev_result=[]\n",
    "#     with torch.no_grad():\n",
    "#         for inputs, labels in dev_dataloader:\n",
    "#             outputs = model(inputs)\n",
    "#             _, predicted = torch.max(outputs.data, 1)\n",
    "#             total += labels.size(0)\n",
    "#             dev_result=dev_result+predicted.tolist()\n",
    "#             correct += (predicted == labels).sum().item()\n",
    "#     dev_result=get_LSTM_result(dev_result,devset)\n",
    "#     # result\n",
    "#     accuracy = 100 * correct / total\n",
    "#     accuracy_list.append(accuracy)\n",
    "#     print('Epoch [{}/{}], Validation Accuracy: {:.2f}%'.format(epoch+1, epochs, accuracy))\n",
    "#     dev_result = {str(k): v for k, v in dev_result.items()}\n",
    "    \n",
    "#     evaluate(dev_result, \"twitter-dev-data.txt\", \"LSTM\")\n",
    "#     confusion(dev_result, \"twitter-dev-data.txt\", \"LSTM\")"
   ]
  },
  {
   "attachments": {},
   "cell_type": "markdown",
   "metadata": {},
   "source": [
    "Epoch of 15 is optimal on devset, but Accuracy is not the highest at this time\n",
    "\n",
    "Information is below:\n",
    "\n",
    "average loss 0.6813841353071497\n",
    "\n",
    "Epoch [15/30], Validation Accuracy: 62.80%\n",
    "\n",
    "/content/gdrive/MyDrive/cw2/twitter-dev-data.txt (LSTM): 0.603\n",
    "\n",
    "        positive  negative  neutral\n",
    "\n",
    "positive    0.694     0.042     0.264\n",
    "\n",
    "negative    0.091     0.559     0.350  \n",
    "\n",
    "neutral     0.254     0.129     0.617  "
   ]
  },
  {
   "cell_type": "code",
   "execution_count": 112,
   "metadata": {},
   "outputs": [],
   "source": [
    "LSTM_5000_accuracy_list=[62.4, 61.8, 61.95, 63.05, 63.65, 63.4, 63.65, 62.7, 64.65, 63.4, 64.95, 65.4, 63.35, 63.05, 63.5, 62.4, 62.75, 63.3, 65.05, 62.05, 61.95, 62.3, 63.0, 63.05, 62.85, 62.7, 62.6, 60.9, 62.2, 62.15]\n",
    "LSTM_5000_loss_list=[0.8776119701828516, 0.8119358728540704, 0.7887103473675167, 0.7732360145513048, 0.7624857674253748, 0.7484373780852513, 0.7459094196980727, 0.7354550465413019, 0.7307149575534442, 0.7214169626540327, 0.718623747364849, 0.7121391821837594, 0.7119934441561394, 0.7058293274953855, 0.7006369074185689, 0.697806467908494, 0.7043842089302996, 0.7134368099430775, 0.7080781865627208, 0.7007945618730911, 0.6915238263547844, 0.6978334061431547, 0.702710811149144, 0.7026373802347387, 0.6971022814723616, 0.6948223270634387, 0.694922840468427, 0.7121027911174382, 0.7173728943927914, 0.7127624604718905]\n",
    "LSTM_5000_F1_score=[0.483,0.552,0.558,0.576,0.580,0.584,0.575,0.592,0.577,0.583,0.601,0.602,0.601,0.550,0.603,0.550,0.591,0.554,0.597,0.598,0.566,0.567,0.601,0.575,0.582, 0.552,0.550,0.566,0.578, 0.552]"
   ]
  },
  {
   "attachments": {},
   "cell_type": "markdown",
   "metadata": {},
   "source": [
    "Test"
   ]
  },
  {
   "cell_type": "code",
   "execution_count": 113,
   "metadata": {},
   "outputs": [
    {
     "name": "stdout",
     "output_type": "stream",
     "text": [
      "63.60804304729538\n"
     ]
    }
   ],
   "source": [
    "# Test the model\n",
    "model.eval()\n",
    "correct, total = 0, 0\n",
    "predicted_list = []\n",
    "with torch.no_grad():\n",
    "    for inputs, labels in test1_dataloader:\n",
    "        outputs = model(inputs)\n",
    "        _, predicted = torch.max(outputs.data, 1)\n",
    "        predicted_list.append(predicted)\n",
    "        total += labels.size(0)\n",
    "        correct += (predicted == labels).sum().item()\n",
    "accuracy = 100 * correct / total\n",
    "print(accuracy)"
   ]
  },
  {
   "cell_type": "code",
   "execution_count": 114,
   "metadata": {},
   "outputs": [
    {
     "name": "stdout",
     "output_type": "stream",
     "text": [
      "63.60804304729538\n",
      "62.7630868861306\n",
      "59.26860025220681\n"
     ]
    }
   ],
   "source": [
    "def test_LSTM_model(test1_dataloader,testset1,model):\n",
    "  # Test the model\n",
    "  model.eval()\n",
    "  correct, total = 0, 0\n",
    "  result=[]\n",
    "  with torch.no_grad():\n",
    "    for inputs, labels in test1_dataloader:\n",
    "              outputs = model(inputs)\n",
    "              _, predicted = torch.max(outputs.data, 1)\n",
    "              total += labels.size(0)\n",
    "              result=result+predicted.tolist()\n",
    "              correct += (predicted == labels).sum().item()\n",
    "    accuracy = 100 * correct / total\n",
    "    test1_result=get_LSTM_result(result,testset1)\n",
    "    \n",
    "    print(accuracy)\n",
    "    return test1_result,result\n",
    "\n",
    "test1_result,result1=test_LSTM_model(test1_dataloader,testset1,model)\n",
    "test2_result,result2=test_LSTM_model(test2_dataloader,testset2,model)\n",
    "test3_result,result3=test_LSTM_model(test3_dataloader,testset3,model)"
   ]
  },
  {
   "cell_type": "code",
   "execution_count": 115,
   "metadata": {},
   "outputs": [
    {
     "name": "stdout",
     "output_type": "stream",
     "text": [
      "twitter-test1.txt (LSTM): 0.239\n",
      "            positive  negative  neutral\n",
      "positive    0.392     0.160     0.449     \n",
      "negative    0.382     0.178     0.440     \n",
      "neutral     0.437     0.154     0.410     \n",
      "\n",
      "twitter-test2.txt (LSTM): 0.531\n",
      "            positive  negative  neutral\n",
      "positive    0.743     0.057     0.199     \n",
      "negative    0.221     0.589     0.189     \n",
      "neutral     0.367     0.107     0.526     \n",
      "\n",
      "twitter-test3.txt (LSTM): 0.501\n",
      "            positive  negative  neutral\n",
      "positive    0.689     0.085     0.226     \n",
      "negative    0.194     0.523     0.284     \n",
      "neutral     0.321     0.132     0.547     \n",
      "\n"
     ]
    }
   ],
   "source": [
    "evaluate(test1_result, \"twitter-test1.txt\", \"LSTM\")\n",
    "confusion(test1_result, \"twitter-test1.txt\", \"LSTM\")\n",
    "evaluate(test2_result, \"twitter-test2.txt\", \"LSTM\")\n",
    "confusion(test2_result, \"twitter-test2.txt\", \"LSTM\")\n",
    "evaluate(test3_result, \"twitter-test3.txt\", \"LSTM\")\n",
    "confusion(test3_result, \"twitter-test3.txt\", \"LSTM\")"
   ]
  },
  {
   "attachments": {},
   "cell_type": "markdown",
   "metadata": {},
   "source": [
    "###  Define LSTM model's architecture with non-limited embedding_matrix"
   ]
  },
  {
   "cell_type": "code",
   "execution_count": 116,
   "metadata": {},
   "outputs": [],
   "source": [
    "import tensorflow as tf\n",
    "import torch\n",
    "embedding_dim=100\n",
    "\n",
    "tokenizer = tf.keras.preprocessing.text.Tokenizer()\n",
    "\n",
    "def preprocess_data(data): \n",
    "    data_tokenized = []\n",
    "    tokenizer.fit_on_texts(data)\n",
    "    sequences = tokenizer.texts_to_sequences(data)\n",
    "\n",
    "    # print(data_tokenized[0])\n",
    "    sequences = pad_sequences(sequences, padding='pre', maxlen=15)\n",
    "    sequences = torch.tensor(sequences)\n",
    "    word_index = tokenizer.word_index\n",
    "    return word_index,sequences,tokenizer\n",
    "\n",
    "\n",
    "word_index1, train_LSTM1,tokenizer1=preprocess_data(trainset_preprocessed)\n",
    "embedding_matrix1 = np.zeros((len(word_index1)+1, embedding_dim),dtype=\"float32\")\n",
    "\n",
    "for word, i in word_index1.items():\n",
    "        if word not in embedding_dict:\n",
    "          embedding_matrix1[i] = embedding_dict.get('unk')\n",
    "        else:\n",
    "          embedding_matrix1[i]= embedding_dict.get(word)"
   ]
  },
  {
   "cell_type": "code",
   "execution_count": 117,
   "metadata": {},
   "outputs": [
    {
     "name": "stdout",
     "output_type": "stream",
     "text": [
      "(51292, 100)\n"
     ]
    }
   ],
   "source": [
    "print(embedding_matrix1.shape)"
   ]
  },
  {
   "cell_type": "code",
   "execution_count": 118,
   "metadata": {},
   "outputs": [],
   "source": [
    "dev_LSTM1 =preprocess_data_test(devset_preprocessed,tokenizer1)\n",
    "test1_LSTM1 =preprocess_data_test(testset1_preprocessed,tokenizer1)\n",
    "test2_LSTM1 =preprocess_data_test(testset2_preprocessed,tokenizer1)\n",
    "test3_LSTM1 =preprocess_data_test(testset3_preprocessed,tokenizer1)"
   ]
  },
  {
   "cell_type": "code",
   "execution_count": 119,
   "metadata": {},
   "outputs": [],
   "source": [
    "train_dataset1 = torch.utils.data.TensorDataset(train_LSTM1, train_label_LSTM)\n",
    "train_dataloader1 = torch.utils.data.DataLoader(train_dataset1, batch_size=32, shuffle=True)\n",
    "dev_dataset1 = torch.utils.data.TensorDataset(dev_LSTM1, dev_label_LSTM)\n",
    "dev_dataloader1 = torch.utils.data.DataLoader(dev_dataset1, batch_size=32, shuffle=False)\n",
    "test1_dataset1 = torch.utils.data.TensorDataset(test1_LSTM1, test1_label_LSTM)\n",
    "test1_dataloader1 = torch.utils.data.DataLoader(test1_dataset1, batch_size=32, shuffle=False)\n",
    "test2_dataset1 = torch.utils.data.TensorDataset(test2_LSTM1, test2_label_LSTM)\n",
    "test2_dataloader1 = torch.utils.data.DataLoader(test2_dataset1, batch_size=32, shuffle=False)\n",
    "test3_dataset1 = torch.utils.data.TensorDataset(test3_LSTM1, test3_label_LSTM)\n",
    "test3_dataloader1 = torch.utils.data.DataLoader(test3_dataset1, batch_size=32, shuffle=False)"
   ]
  },
  {
   "cell_type": "code",
   "execution_count": 120,
   "metadata": {},
   "outputs": [],
   "source": [
    "# Define the model\n",
    "class SentimentAnalysisModel_2(nn.Module):\n",
    "    def __init__(self, embedding_matrix,hidden_dim,dropout=0.2):\n",
    "        # The initialisation method of the SentimentAnalysisModel class's parent class, nn.Module, is called to ensure that the model is correctly initialised. The purpose of this line of code is to ensure that the model can successfully inherit from the nn.Module class and can use the various methods and properties it defines.\n",
    "        super(SentimentAnalysisModel_2, self).__init__()\n",
    "        # Defining the embedding layer\n",
    "        self.embedding_layer = nn.Embedding.from_pretrained(torch.from_numpy(embedding_matrix))\n",
    "        self.embedding_layer.weight.requires_grad = False\n",
    "        # Define the LSTM layer for extracting sequence features\n",
    "        self.lstm = nn.LSTM(embedding_matrix.shape[1],hidden_size=hidden_dim,dropout=dropout,num_layers=2,bidirectional=True,batch_first=True)\n",
    "        # Defining the fully connected layer\n",
    "        self.fc = nn.Linear(hidden_dim*2, 3)\n",
    "        \n",
    "        \n",
    "    def forward(self, input):\n",
    "        embedding_input = self.embedding_layer(input)\n",
    "        lstm_input, _ = self.lstm(embedding_input)\n",
    "        lstm_input = lstm_input[:, -1, :]\n",
    "        result = self.fc(lstm_input)\n",
    "        return result"
   ]
  },
  {
   "cell_type": "code",
   "execution_count": 121,
   "metadata": {},
   "outputs": [],
   "source": [
    "hidden_dum=128\n",
    "\n",
    " # Initialize the model, loss function, and optimizer\n",
    "model_2 = SentimentAnalysisModel_2(embedding_matrix1,hidden_dum)\n",
    "model_2.load_state_dict(torch.load('./model/best_lstm_nolimited_17.pth'))\n",
    "epochs        = 30\n",
    "learning_rate = 0.01\n",
    "\n",
    "# Loss Function\n",
    "loss_fn = nn.CrossEntropyLoss()\n",
    "\n",
    "# Optimizer\n",
    "optimizer = Adam(model.parameters(), lr=learning_rate)"
   ]
  },
  {
   "cell_type": "code",
   "execution_count": 122,
   "metadata": {},
   "outputs": [],
   "source": [
    "# # Train the model\n",
    "# accuracy_list=[]\n",
    "# loss_list=[]\n",
    "# for epoch in range(epochs):\n",
    "#     model.train()\n",
    "#     loss_sum=0\n",
    "#     time=0\n",
    "\n",
    "#     for i, (inputs, labels) in enumerate(train_dataloader1):\n",
    "        \n",
    "#         # labels = torch.tensor(labels, dtype=torch.long)\n",
    "#         optimizer.zero_grad()\n",
    "        \n",
    "#         outputs = model(inputs)\n",
    "#         _, predicted = torch.max(outputs.data, 1)\n",
    "#         labels = labels.float()\n",
    "#         loss = loss_fn(outputs, labels)\n",
    "#         loss_sum=loss_sum+loss.item()\n",
    "#         time=time+1\n",
    "        \n",
    "#         # print('Epoch [{}/{}], Step [{}/{}], Loss: {:.4f}'.format(epoch+1, epochs, i+1, len(train_dataloader), loss.item()))\n",
    "#         loss.backward()\n",
    "#         optimizer.step()\n",
    "#     print(\"average loss\",loss_sum/ time)\n",
    "#     loss_list.append(loss_sum/ time)\n",
    "#     # Evaluate on the validation set\n",
    "#     torch.save(model.state_dict(),\"best_lstm_nolimited_\"+str(epoch)+\".pth\")\n",
    "#     model.eval()\n",
    "#     correct, total = 0, 0\n",
    "#     dev_result=[]\n",
    "#     with torch.no_grad():\n",
    "#         for inputs, labels in dev_dataloader1:\n",
    "#             outputs = model(inputs)\n",
    "#             _, predicted = torch.max(outputs.data, 1)\n",
    "#             total += labels.size(0)\n",
    "#             dev_result=dev_result+predicted.tolist()\n",
    "#             correct += (predicted == labels).sum().item()\n",
    "#     dev_result=get_LSTM_result(dev_result,devset)\n",
    "#     # result\n",
    "#     accuracy = 100 * correct / total\n",
    "#     accuracy_list.append(accuracy)\n",
    "#     print('Epoch [{}/{}], Validation Accuracy: {:.2f}%'.format(epoch+1, epochs, accuracy))\n",
    "#     dev_result = {str(k): v for k, v in dev_result.items()}\n",
    "    \n",
    "#     evaluate(dev_result, \"twitter-dev-data.txt\", \"LSTM\")\n",
    "#     confusion(dev_result, \"twitter-dev-data.txt\", \"LSTM\")"
   ]
  },
  {
   "attachments": {},
   "cell_type": "markdown",
   "metadata": {},
   "source": [
    "**Optimal results**\n",
    "\n",
    "average loss 0.6747487826127533\n",
    "\n",
    "Epoch [17/30], Validation Accuracy: 63.50%\n",
    "\n",
    "/content/gdrive/MyDrive/cw2/twitter-dev-data.txt (LSTM): 0.608\n",
    "\n",
    "            positive  negative  neutral\n",
    "\n",
    "positive    438.000     29.000     182.000  \n",
    "\n",
    "negative    27.000     204.000     109.000   \n",
    "\n",
    "neutral     238.000     145.000     628.000     \n"
   ]
  },
  {
   "cell_type": "code",
   "execution_count": 123,
   "metadata": {},
   "outputs": [],
   "source": [
    "LSTM_nonlimited_loss_list=[0.8725092326918392, 0.8057633484508975, 0.7821805955247676, 0.76335154336395, 0.7478578329086304, 0.733125728939442, 0.72381323432246, 0.7146362344212566, 0.7016217644332994, 0.6975348826418531, 0.6868466202460283, 0.685495617964589, 0.6808226977257018, 0.6766568929591077, 0.6725089657813945, 0.6693432959681707, 0.6747487826127533, 0.6669836447171286, 0.6637605224940794, 0.668379356083295, 0.6609375093211519, 0.6596252970238949, 0.6519322567374993, 0.6586275813427377, 0.6615035973753489, 0.6624661011053316, 0.6596654728372047, 0.6595572181838624, 0.6595044520307094, 0.6638959229626554]\n",
    "LSTM_nonlimited_accuracy_list=[60.85, 61.65, 62.65, 61.45, 62.4, 62.55, 61.5, 62.5, 63.25, 63.25, 62.9, 61.65, 62.8, 62.25, 62.75, 62.95, 63.5, 63.45, 61.3, 62.85, 62.05, 63.25, 61.7, 62.25, 62.9, 62.7, 61.65, 61.9, 62.05, 62.75]\n",
    "LSTM_nonlimited_F1_list=[0.555,0.581,0.584,0.528,0.567,0.552,0.594,0.603,0.586,0.593,0.587,0.569,0.589,0.577,0.595,0.578,0.608,0.595,0.563,0.596,0.577,0.588,0.576,0.587,0.572,0.559,0.598,0.590,0.570,0.581]"
   ]
  },
  {
   "cell_type": "code",
   "execution_count": 124,
   "metadata": {},
   "outputs": [
    {
     "name": "stdout",
     "output_type": "stream",
     "text": [
      "63.35315774568111\n",
      "60.55045871559633\n",
      "59.394703656998736\n",
      "twitter-test1.txt (LSTM): 0.547\n",
      "            positive  negative  neutral\n",
      "positive    0.754     0.050     0.195     \n",
      "negative    0.193     0.573     0.234     \n",
      "neutral     0.278     0.142     0.581     \n",
      "\n",
      "twitter-test2.txt (LSTM): 0.550\n",
      "            positive  negative  neutral\n",
      "positive    0.754     0.046     0.200     \n",
      "negative    0.190     0.629     0.181     \n",
      "neutral     0.409     0.095     0.497     \n",
      "\n",
      "twitter-test3.txt (LSTM): 0.527\n",
      "            positive  negative  neutral\n",
      "positive    0.720     0.063     0.217     \n",
      "negative    0.191     0.515     0.294     \n",
      "neutral     0.334     0.122     0.544     \n",
      "\n"
     ]
    }
   ],
   "source": [
    "test1_result1,result1=test_LSTM_model(test1_dataloader1,testset1,model_2)\n",
    "test2_result1,result2=test_LSTM_model(test2_dataloader1,testset2,model_2)\n",
    "test3_result1,result3=test_LSTM_model(test3_dataloader1,testset3,model_2)\n",
    "\n",
    "evaluate(test1_result1, \"twitter-test1.txt\", \"LSTM\")\n",
    "confusion(test1_result1, \"twitter-test1.txt\", \"LSTM\")\n",
    "evaluate(test2_result1, \"twitter-test2.txt\", \"LSTM\")\n",
    "confusion(test2_result1, \"twitter-test2.txt\", \"LSTM\")\n",
    "evaluate(test3_result1, \"twitter-test3.txt\", \"LSTM\")\n",
    "confusion(test3_result1, \"twitter-test3.txt\", \"LSTM\")"
   ]
  },
  {
   "attachments": {},
   "cell_type": "markdown",
   "metadata": {},
   "source": [
    "### GRU（Gated Recurrent Unit）model with non-limited embedding matrix"
   ]
  },
  {
   "cell_type": "code",
   "execution_count": 125,
   "metadata": {},
   "outputs": [],
   "source": [
    "# Define the model\n",
    "class SentimentAnalysisTransferModel(nn.Module):\n",
    "    def __init__(self, embedding_matrix,hidden_dim,bidirectional,n_layers,dropout=0.2,output_dim=3):\n",
    "        super(SentimentAnalysisTransferModel, self).__init__()\n",
    "        # Define the embedding layer\n",
    "        self.embedding_layer = nn.Embedding.from_pretrained(torch.from_numpy(embedding_matrix))\n",
    "        self.embedding_layer.weight.requires_grad = False\n",
    "\n",
    "        # Define the GRU layer for extracting sequence features\n",
    "        self.rnn = nn.GRU(embedding_matrix.shape[1],\n",
    "                          hidden_dim,\n",
    "                          num_layers = n_layers,\n",
    "                          bidirectional = bidirectional,\n",
    "                          batch_first = True,\n",
    "                          dropout = 0 if n_layers < 2 else dropout)\n",
    "        \n",
    "        self.out = nn.Linear(hidden_dim * 2 if bidirectional else hidden_dim, output_dim)\n",
    "        # This line of code creates a dropout layer and stores it in self.dropout. If the number of GRU layers is less than 2, then dropout is not used.\n",
    "        self.dropout = nn.Dropout(dropout)\n",
    "\n",
    "        # Define fully connected layers\n",
    "        self.fc = nn.Linear(hidden_dim*2, 3)\n",
    "        \n",
    "        \n",
    "    def forward(self, input):\n",
    "\n",
    "        embedding_input = self.embedding_layer(input)\n",
    "        _, hidden = self.rnn(embedding_input)\n",
    "        if self.rnn.bidirectional:\n",
    "            hidden = self.dropout(torch.cat((hidden[-2,:,:], hidden[-1,:,:]), dim = 1))\n",
    "        else:\n",
    "            hidden = self.dropout(hidden[-1,:,:])\n",
    "        output = self.out(hidden)\n",
    "        return output"
   ]
  },
  {
   "cell_type": "code",
   "execution_count": 126,
   "metadata": {},
   "outputs": [
    {
     "name": "stdout",
     "output_type": "stream",
     "text": [
      "(51292, 100)\n"
     ]
    }
   ],
   "source": [
    "print(embedding_matrix1.shape)"
   ]
  },
  {
   "cell_type": "code",
   "execution_count": 136,
   "metadata": {},
   "outputs": [],
   "source": [
    "hidden_dum=128\n",
    "bidirectional=True\n",
    "n_layers=2\n",
    "dropout=0.1\n",
    "output_dim=3\n",
    " # Initialize the model, loss function, and optimizer\n",
    " # 5000*100\n",
    "model3 = SentimentAnalysisTransferModel(embedding_matrix,hidden_dum,bidirectional,n_layers,dropout)\n",
    "# 5000*100\n",
    "model3.load_state_dict(torch.load('./model/best_transformer_5.pth'))\n",
    "# (51292, 100) do not keep stopwords\n",
    "# model3 = SentimentAnalysisTransferModel(embedding_matrix1,hidden_dum,bidirectional,n_layers,dropout)\n",
    "# model3.load_state_dict(torch.load('./model/best_transformer_0.pth'))\n",
    "# (51392, 100) keep stopwords\n",
    "\n",
    "epochs        = 30\n",
    "learning_rate = 0.01\n",
    "\n",
    "# Loss Function\n",
    "loss_fn = nn.CrossEntropyLoss()\n",
    "\n",
    "# Optimizer\n",
    "optimizer = Adam(model.parameters(), lr=learning_rate)"
   ]
  },
  {
   "attachments": {},
   "cell_type": "markdown",
   "metadata": {},
   "source": [
    "Train"
   ]
  },
  {
   "cell_type": "code",
   "execution_count": 128,
   "metadata": {},
   "outputs": [],
   "source": [
    "# # Train the model\n",
    "# accuracy_list=[]\n",
    "# loss_list=[]\n",
    "# for epoch in range(epochs):\n",
    "#     model.train()\n",
    "#     loss_sum=0\n",
    "#     time=0\n",
    "    \n",
    "#     for i, (inputs, labels) in enumerate(train_dataloader):\n",
    "        \n",
    "#         # labels = torch.tensor(labels, dtype=torch.long)\n",
    "#         optimizer.zero_grad()\n",
    "        \n",
    "#         outputs = model(inputs)\n",
    "#         _, predicted = torch.max(outputs.data, 1)\n",
    "#         labels = labels.float()\n",
    "#         loss = loss_fn(outputs, labels)\n",
    "#         loss_sum=loss_sum+loss.item()\n",
    "#         time=time+1\n",
    "        \n",
    "#         # print('Epoch [{}/{}], Step [{}/{}], Loss: {:.4f}'.format(epoch+1, epochs, i+1, len(train_dataloader), loss.item()))\n",
    "#         loss.backward()\n",
    "#         optimizer.step()\n",
    "#     print(\"average loss\",loss_sum/ time)\n",
    "#     # Evaluate on the validation set\n",
    "#     loss_list.append(loss_sum/ time)\n",
    "#     # Evaluate on the validation set\n",
    "#     torch.save(model.state_dict(),\"best_transformer_\"+str(epoch)+\".pth\")\n",
    "#     model.eval()\n",
    "#     correct, total = 0, 0\n",
    "#     dev_result=[]\n",
    "#     with torch.no_grad():\n",
    "#         for inputs, labels in dev_dataloader:\n",
    "#             outputs = model(inputs)\n",
    "#             _, predicted = torch.max(outputs.data, 1)\n",
    "#             total += labels.size(0)\n",
    "#             dev_result=dev_result+predicted.tolist()\n",
    "#             correct += (predicted == labels).sum().item()\n",
    "#     dev_result=get_LSTM_result(dev_result,devset)\n",
    "#     # result\n",
    "#     accuracy = 100 * correct / total\n",
    "#     print('Epoch [{}/{}], Validation Accuracy: {:.2f}%'.format(epoch+1, epochs, accuracy))\n",
    "#     dev_result = {str(k): v for k, v in dev_result.items()}\n",
    "#     accuracy_list.append(accuracy)\n",
    "#     evaluate(dev_result, \"twitter-dev-data.txt\", \"LSTM\")\n",
    "#     confusion(dev_result, \"twitter-dev-data.txt\", \"LSTM\")"
   ]
  },
  {
   "cell_type": "code",
   "execution_count": 129,
   "metadata": {},
   "outputs": [],
   "source": [
    "GRU_F1_list=[0.520,0.499,0.569,0.474,0.518,0.536,0.516,0.529,0.543,0.526,0.489,0.508,0.520,0.533,0.568,0.549,0.566,0.504,0.500,0.484,0.483,0.495,0.438,0.417,0.408,0.492,0.421,0.449,0.513,0.471]\n"
   ]
  },
  {
   "attachments": {},
   "cell_type": "markdown",
   "metadata": {},
   "source": [
    "**Ebedding matrix: 5000*100**\n",
    "\n",
    "average loss 0.879466258591794\n",
    "\n",
    "Epoch [5/30], Validation Accuracy: 59.95%\n",
    "\n",
    "/content/gdrive/MyDrive/cw2/twitter-dev-data.txt (LSTM): 0.558\n",
    "\n",
    "            positive  negative  neutral\n",
    "\n",
    "positive    383.000     39.000     179.000     \n",
    "\n",
    "negative    36.000     189.000     113.000     \n",
    "\n",
    "neutral     284.000     150.000     627.000     \n",
    "\n",
    "\n",
    "\n",
    "**Ebedding matrix: All*100**\n",
    "\n",
    "average loss 0.8708122994037385\n",
    "\n",
    "Epoch [3/30], Validation Accuracy: 59.00%\n",
    "\n",
    "/content/gdrive/MyDrive/cw2/twitter-dev-data.txt (LSTM): 0.569\n",
    "\n",
    "            positive  negative  neutral\n",
    "\n",
    "positive    479.000     62.000     301.000 \n",
    "\n",
    "negative    39.000     179.000     96.000    \n",
    " \n",
    "neutral     185.000     137.000     522.000     \n"
   ]
  },
  {
   "attachments": {},
   "cell_type": "markdown",
   "metadata": {},
   "source": [
    "**Test**"
   ]
  },
  {
   "cell_type": "code",
   "execution_count": 130,
   "metadata": {},
   "outputs": [
    {
     "name": "stdout",
     "output_type": "stream",
     "text": [
      "60.35117530444633\n",
      "60.49649217485159\n",
      "59.100462379150905\n",
      "twitter-test1.txt (LSTM): 0.192\n",
      "            positive  negative  neutral\n",
      "positive    0.396     0.160     0.444     \n",
      "negative    0.438     0.146     0.415     \n",
      "neutral     0.424     0.157     0.419     \n",
      "\n",
      "twitter-test2.txt (LSTM): 0.453\n",
      "            positive  negative  neutral\n",
      "positive    0.778     0.042     0.180     \n",
      "negative    0.275     0.627     0.098     \n",
      "neutral     0.380     0.128     0.491     \n",
      "\n",
      "twitter-test3.txt (LSTM): 0.448\n",
      "            positive  negative  neutral\n",
      "positive    0.764     0.068     0.168     \n",
      "negative    0.165     0.687     0.148     \n",
      "neutral     0.332     0.147     0.521     \n",
      "\n"
     ]
    }
   ],
   "source": [
    "test1_result1,result1=test_LSTM_model(test1_dataloader,testset1,model3)\n",
    "test2_result1,result2=test_LSTM_model(test2_dataloader,testset2,model3)\n",
    "test3_result1,result3=test_LSTM_model(test3_dataloader,testset3,model3)\n",
    "test1_result = {str(k): v for k, v in test1_result.items()}\n",
    "test2_result = {str(k): v for k, v in test2_result.items()}\n",
    "test3_result = {str(k): v for k, v in test3_result.items()}\n",
    "evaluate(test1_result1, \"twitter-test1.txt\", \"LSTM\")\n",
    "confusion(test1_result1, \"twitter-test1.txt\", \"LSTM\")\n",
    "evaluate(test2_result1, \"twitter-test2.txt\", \"LSTM\")\n",
    "confusion(test2_result1, \"twitter-test2.txt\", \"LSTM\")\n",
    "evaluate(test3_result1, \"twitter-test3.txt\", \"LSTM\")\n",
    "confusion(test3_result1, \"twitter-test3.txt\", \"LSTM\")"
   ]
  },
  {
   "cell_type": "code",
   "execution_count": 131,
   "metadata": {},
   "outputs": [
    {
     "name": "stdout",
     "output_type": "stream",
     "text": [
      "60.35117530444633\n",
      "60.49649217485159\n",
      "59.100462379150905\n",
      "twitter-test1.txt (LSTM): 0.199\n",
      "            positive  negative  neutral\n",
      "positive    0.411     0.145     0.443     \n",
      "negative    0.385     0.146     0.469     \n",
      "neutral     0.420     0.164     0.416     \n",
      "\n",
      "twitter-test2.txt (LSTM): 0.453\n",
      "            positive  negative  neutral\n",
      "positive    0.778     0.042     0.180     \n",
      "negative    0.275     0.627     0.098     \n",
      "neutral     0.380     0.128     0.491     \n",
      "\n",
      "twitter-test3.txt (LSTM): 0.448\n",
      "            positive  negative  neutral\n",
      "positive    0.764     0.068     0.168     \n",
      "negative    0.165     0.687     0.148     \n",
      "neutral     0.332     0.147     0.521     \n",
      "\n"
     ]
    }
   ],
   "source": [
    "test1_result1,result1=test_LSTM_model(test1_dataloader,testset1,model3)\n",
    "test2_result1,result2=test_LSTM_model(test2_dataloader,testset2,model3)\n",
    "test3_result1,result3=test_LSTM_model(test3_dataloader,testset3,model3)\n",
    "test1_result = {str(k): v for k, v in test1_result.items()}\n",
    "test2_result = {str(k): v for k, v in test2_result.items()}\n",
    "test3_result = {str(k): v for k, v in test3_result.items()}\n",
    "evaluate(test1_result1, \"twitter-test1.txt\", \"LSTM\")\n",
    "confusion(test1_result1, \"twitter-test1.txt\", \"LSTM\")\n",
    "evaluate(test2_result1, \"twitter-test2.txt\", \"LSTM\")\n",
    "confusion(test2_result1, \"twitter-test2.txt\", \"LSTM\")\n",
    "evaluate(test3_result1, \"twitter-test3.txt\", \"LSTM\")\n",
    "confusion(test3_result1, \"twitter-test3.txt\", \"LSTM\")"
   ]
  },
  {
   "attachments": {},
   "cell_type": "markdown",
   "metadata": {},
   "source": [
    "## Comparison between different model"
   ]
  },
  {
   "cell_type": "code",
   "execution_count": 132,
   "metadata": {},
   "outputs": [
    {
     "data": {
      "image/png": "[encoded data removed]",
      "text/plain": [
       "<Figure size 432x288 with 1 Axes>"
      ]
     },
     "metadata": {
      "needs_background": "light"
     },
     "output_type": "display_data"
    }
   ],
   "source": [
    "import matplotlib.pyplot as plt\n",
    "\n",
    "# x-axis data\n",
    "x = [ 1, 2, 3, 4, 5, 6, 7, 8, 9, 10, 11, 12, 13, 14, 15, 16, 17, 18, 19, 20, 21, 22, 23, 24, 25, 26, 27, 28, 29, 30]\n",
    "\n",
    "# different coloured folds\n",
    "y1 = LSTM_5000_F1_score\n",
    "y2 = LSTM_nonlimited_F1_list\n",
    "\n",
    "# Draw line graphs\n",
    "plt.plot(x, y1, color='red', label='LSTM 5000')\n",
    "plt.plot(x, y2, color='blue', label='LSTM non-limited')\n",
    "\n",
    "# Add captions, labels and legends\n",
    "plt.title('F1 Score Line Chart')\n",
    "plt.xlabel('Epoch')\n",
    "plt.ylabel('Value')\n",
    "plt.legend()\n",
    "\n",
    "plt.show()"
   ]
  },
  {
   "cell_type": "code",
   "execution_count": 133,
   "metadata": {},
   "outputs": [
    {
     "data": {
      "image/png": "[encoded data removed]",
      "text/plain": [
       "<Figure size 432x288 with 1 Axes>"
      ]
     },
     "metadata": {
      "needs_background": "light"
     },
     "output_type": "display_data"
    }
   ],
   "source": [
    "x = [ 1, 2, 3, 4, 5, 6, 7, 8, 9, 10, 11, 12, 13, 14, 15, 16, 17, 18, 19, 20, 21, 22, 23, 24, 25, 26, 27, 28, 29, 30]\n",
    "# y1 = LSTM_nonlimited_F1_list\n",
    "y2 = LSTM_nonlimited_F1_list\n",
    "y1=LSTM_nonlimited_loss_list\n",
    "\n",
    "# Draw line graphs\n",
    "plt.plot(x, y1, color='red', label='Loss')\n",
    "plt.plot(x, y2, color='blue', label='F1')\n",
    "\n",
    "# Add captions, labels and legends\n",
    "plt.title('LSTM')\n",
    "plt.xlabel('Epoch')\n",
    "plt.ylabel('Value')\n",
    "plt.legend()\n",
    "\n",
    "plt.show()"
   ]
  },
  {
   "attachments": {},
   "cell_type": "markdown",
   "metadata": {},
   "source": [
    "#### Build sentiment classifiers\n",
    "You need to create your own classifiers (at least 3 classifiers). For each classifier, you can choose between the bag-of-word features and the word-embedding-based features. Each classifier has to be evaluated over 3 test sets. Make sure your classifier produce consistent performance across the test sets. Marking will be based on the performance over **all 5 test sets**(2 of them are not provided to you)."
   ]
  },
  {
   "cell_type": "code",
   "execution_count": 138,
   "metadata": {},
   "outputs": [],
   "source": [
    "def get_BernoulliNB_preprocess(path):\n",
    "    data=read_data(path)\n",
    "    data,_=pre_process(data)\n",
    "    dataset_preprocessed_new = [' '.join(text) for text in data]\n",
    "    X = vectorizer.fit_transform(dataset_preprocessed_new)\n",
    "    return X\n",
    "def get_embedding_input(dataset):\n",
    "    devset_preprocessed,_ = pre_process(dataset)\n",
    "    dataset_label_LSTM=get_dataset_label_LSTM(dataset)\n",
    "    dataset_LSTM =preprocess_data_test(devset_preprocessed,tokenizer)\n",
    "    dev_dataset = torch.utils.data.TensorDataset(dataset_LSTM, dataset_label_LSTM)\n",
    "    dev_dataloader = torch.utils.data.DataLoader(dev_dataset, batch_size=4, shuffle=False)\n",
    "    return dev_dataloader"
   ]
  },
  {
   "cell_type": "code",
   "execution_count": 137,
   "metadata": {},
   "outputs": [],
   "source": [
    "# Buid traditional sentiment classifiers. An example classifier name 'svm' is given\n",
    "# in the code below. You should replace the other two classifier names\n",
    "# with your own choices. For features used for classifier training, \n",
    "# the 'bow' feature is given in the code. But you could also explore the \n",
    "# use of other features.\n",
    "for classifier in ['SVM', 'BernoulliNB',\"LSTM\", 'GRU']:\n",
    "    for features in ['bow', '<feature-2-name>']:\n",
    "        model = None\n",
    "        # Skeleton: Creation and training of the classifiers\n",
    "        if classifier == 'SVM':\n",
    "            # write the svm classifier here\n",
    "            print('Training ' + classifier)\n",
    "            with open('./model/SVC_model.pkl', 'rb') as f:\n",
    "                model = pickle.load(f)\n",
    "        elif classifier == 'BernoulliNB':\n",
    "            # write the classifier 2 here\n",
    "            print('Training ' + classifier)\n",
    "            model = BernoulliNB(alpha= 10.0, class_prior= None, fit_prior= True)\n",
    "            model.fit(X_1000, train_label)\n",
    "        elif classifier == 'LSTM':\n",
    "            # write the classifier 3 here\n",
    "            print('Training ' + classifier)\n",
    "            model = SentimentAnalysisModel(embedding_matrix,hidden_dum)\n",
    "            model.load_state_dict(torch.load('./model/best_lstm_500015.pth'))\n",
    "        elif classifier == 'GRU':\n",
    "            # write the LSTM classifier here\n",
    "            print('Training ' + classifier)\n",
    "            model = SentimentAnalysisTransferModel(embedding_matrix,hidden_dum,bidirectional,n_layers,dropout)\n",
    "            # 5000*100\n",
    "            model.load_state_dict(torch.load('./model/best_transformer_5.pth'))\n",
    "\n",
    "        # Predition performance of the classifiers\n",
    "        for testset in testsets:\n",
    "            id_preds = {}\n",
    "            testset_name = testset\n",
    "            test_tf=get_BernoulliNB_preprocess(testset_name)\n",
    "            testset=read_data(testset)\n",
    "            test_embedding_input=get_embedding_input(testset)\n",
    "            if classifier == 'SVM':\n",
    "                id_preds=get_SVC_result(model,test_tf,testset)\n",
    "            elif classifier == 'BernoulliNB':\n",
    "                get_BernoulliNB_result(model,test_tf,testset,testset_name)\n",
    "            elif classifier == 'LSTM':\n",
    "                    dev_result=[]\n",
    "                    with torch.no_grad():\n",
    "                        for inputs, labels in test_embedding_input:\n",
    "                            outputs = model(inputs)\n",
    "                            _, predicted = torch.max(outputs.data, 1)\n",
    "                            total += labels.size(0)\n",
    "                            dev_result=dev_result+predicted.tolist()\n",
    "                            correct += (predicted == labels).sum().item()\n",
    "                    id_preds=get_LSTM_result(model,test_tf,testset)\n",
    "            elif classifier == 'GRU':\n",
    "                dev_result=[]\n",
    "                with torch.no_grad():\n",
    "                    for inputs, labels in test_embedding_input:\n",
    "                        outputs = model(inputs)\n",
    "                        _, predicted = torch.max(outputs.data, 1)\n",
    "                        total += labels.size(0)\n",
    "                        dev_result=dev_result+predicted.tolist()\n",
    "                        correct += (predicted == labels).sum().item()\n",
    "                id_preds=get_LSTM_result(model,test_tf,testset)\n",
    "            testset_path = join(testset_name)\n",
    "            evaluate(id_preds, testset_path, features + '-' + classifier)"
   ]
  }
 ],
 "metadata": {
  "kernelspec": {
   "display_name": "Python 3",
   "language": "python",
   "name": "python3"
  },
  "language_info": {
   "codemirror_mode": {
    "name": "ipython",
    "version": 3
   },
   "file_extension": ".py",
   "mimetype": "text/x-python",
   "name": "python",
   "nbconvert_exporter": "python",
   "pygments_lexer": "ipython3",
   "version": "3.9.7"
  },
  "vscode": {
   "interpreter": {
    "hash": "81794d4967e6c3204c66dcd87b604927b115b27c00565d3d43f05ba2f3a2cb0d"
   }
  }
 },
 "nbformat": 4,
 "nbformat_minor": 2
}
